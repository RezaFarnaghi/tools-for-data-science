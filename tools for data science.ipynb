{
 "cells": [
  {
   "cell_type": "markdown",
   "id": "b901d8ad",
   "metadata": {},
   "source": [
    "## tools for data science \n"
   ]
  },
  {
   "cell_type": "markdown",
   "id": "03dd9ab6",
   "metadata": {},
   "source": [
    "note book for assignment of tools for data science"
   ]
  },
  {
   "cell_type": "markdown",
   "id": "22176fe5",
   "metadata": {},
   "source": [
    "## popular language for data science :\n",
    "\n",
    "python\n",
    "\n",
    "R\n",
    "\n",
    "SQL\n",
    "\n",
    "C++\n",
    "\n",
    "Scala\n",
    "\n",
    "java"
   ]
  },
  {
   "cell_type": "markdown",
   "id": "e3b98d86",
   "metadata": {},
   "source": [
    "## popular librarries for data science:\n",
    "\n",
    "numpy\n",
    "\n",
    "panadas\n",
    "\n",
    "scipy\n",
    "\n",
    "matplotlib\n",
    "\n",
    "scikit-learn\n",
    "\n",
    "seaborn \n",
    "\n",
    "keras\n",
    "\n",
    ".\n",
    ".\n",
    "."
   ]
  },
  {
   "cell_type": "markdown",
   "id": "d1ad1cf3",
   "metadata": {},
   "source": [
    "|data science tools|\n",
    "|----|\n",
    "|apache|\n",
    "|hadoop|\n",
    "|tensorflow|"
   ]
  },
  {
   "cell_type": "markdown",
   "id": "636a6fae",
   "metadata": {},
   "source": [
    "# example for calculation"
   ]
  },
  {
   "cell_type": "code",
   "execution_count": 7,
   "id": "37f0e29f",
   "metadata": {},
   "outputs": [
    {
     "data": {
      "text/plain": [
       "10"
      ]
     },
     "execution_count": 7,
     "metadata": {},
     "output_type": "execute_result"
    }
   ],
   "source": [
    "# multiply numbers\n",
    "(2 * 3) + 4"
   ]
  },
  {
   "cell_type": "code",
   "execution_count": 8,
   "id": "35867f3d",
   "metadata": {},
   "outputs": [
    {
     "data": {
      "text/plain": [
       "5.333333333333333"
      ]
     },
     "execution_count": 8,
     "metadata": {},
     "output_type": "execute_result"
    }
   ],
   "source": [
    "# convert minus to hour\n",
    "(320 / 60)"
   ]
  },
  {
   "cell_type": "markdown",
   "id": "cb2e78fd",
   "metadata": {},
   "source": [
    "### __objective__\n",
    "\n",
    "- Create a markdown cell with a table of Data Science tools\n",
    "\n",
    "- Create a markdown cell introducing arithmetic expression examples\n",
    "\n",
    "- Create a code cell to multiply and add numbers\n",
    "\n",
    "- Create a code cell to convert minutes to hours\n",
    "\n"
   ]
  },
  {
   "cell_type": "markdown",
   "id": "7308dac2",
   "metadata": {},
   "source": [
    "## author\n",
    "Reza Farnaghi"
   ]
  },
  {
   "cell_type": "code",
   "execution_count": null,
   "id": "214c9cc4",
   "metadata": {},
   "outputs": [],
   "source": []
  }
 ],
 "metadata": {
  "kernelspec": {
   "display_name": "Python 3 (ipykernel)",
   "language": "python",
   "name": "python3"
  },
  "language_info": {
   "codemirror_mode": {
    "name": "ipython",
    "version": 3
   },
   "file_extension": ".py",
   "mimetype": "text/x-python",
   "name": "python",
   "nbconvert_exporter": "python",
   "pygments_lexer": "ipython3",
   "version": "3.9.13"
  }
 },
 "nbformat": 4,
 "nbformat_minor": 5
}
